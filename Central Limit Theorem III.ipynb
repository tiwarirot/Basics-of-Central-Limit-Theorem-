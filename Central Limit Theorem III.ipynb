{
 "cells": [
  {
   "cell_type": "code",
   "execution_count": null,
   "metadata": {},
   "outputs": [],
   "source": [
    "#You have a sample of 100 values from a population with mean 500 and with standard deviation 80. Compute the \n",
    "#interval that covers the middle 95% of the distribution of the sample mean; in other words, compute A and B such that . \n",
    "#P(A < x < B) = 0.95. Use the value of z = 1.96. Note that  is the z-score."
   ]
  },
  {
   "cell_type": "code",
   "execution_count": 2,
   "metadata": {},
   "outputs": [
    {
     "name": "stdout",
     "output_type": "stream",
     "text": [
      "484.32\n",
      "515.68\n"
     ]
    }
   ],
   "source": [
    "import math\n",
    "cdf = lambda x: 0.5 * (1 + math.erf((x - mean) / (var * (2 ** 0.5))))\n",
    "mean = 500\n",
    "std = 80\n",
    "n = 100\n",
    "s = 0.95\n",
    "z = 1.96\n",
    "marer = z * (std/(math.sqrt(n)))\n",
    "print('{:.2f}'.format(mean-marer))\n",
    "print('{:.2f}'.format(mean+marer))"
   ]
  }
 ],
 "metadata": {
  "kernelspec": {
   "display_name": "Python 3",
   "language": "python",
   "name": "python3"
  },
  "language_info": {
   "codemirror_mode": {
    "name": "ipython",
    "version": 3
   },
   "file_extension": ".py",
   "mimetype": "text/x-python",
   "name": "python",
   "nbconvert_exporter": "python",
   "pygments_lexer": "ipython3",
   "version": "3.6.5"
  }
 },
 "nbformat": 4,
 "nbformat_minor": 2
}
