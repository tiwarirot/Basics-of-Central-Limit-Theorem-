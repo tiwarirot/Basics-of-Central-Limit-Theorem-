{
 "cells": [
  {
   "cell_type": "code",
   "execution_count": null,
   "metadata": {},
   "outputs": [],
   "source": [
    "#A large elevator can transport a maximum of 9800 pounds. Suppose a load of cargo containing 49 boxes must be transported \n",
    "#via the elevator. The box weight of this type of cargo follows a distribution with a mean of 205 pounds \n",
    "#and a standard deviation of 15 pounds. Based on this information, what is the probability that all 49 boxes \n",
    "#can be safely loaded into the freight elevator and transported?"
   ]
  },
  {
   "cell_type": "code",
   "execution_count": 13,
   "metadata": {},
   "outputs": [
    {
     "name": "stdout",
     "output_type": "stream",
     "text": [
      "0.0098\n"
     ]
    }
   ],
   "source": [
    "import math\n",
    "w = 9800\n",
    "n = 49\n",
    "m = 205\n",
    "sig = 15\n",
    "mean = n * m\n",
    "var = math.sqrt(n) * sig\n",
    "cdf = lambda x: 0.5 * (1 + math.erf((x - mean) / (var * (2 ** 0.5))))\n",
    "print('{:.4f}'.format(cdf(w)))"
   ]
  }
 ],
 "metadata": {
  "kernelspec": {
   "display_name": "Python 3",
   "language": "python",
   "name": "python3"
  },
  "language_info": {
   "codemirror_mode": {
    "name": "ipython",
    "version": 3
   },
   "file_extension": ".py",
   "mimetype": "text/x-python",
   "name": "python",
   "nbconvert_exporter": "python",
   "pygments_lexer": "ipython3",
   "version": "3.6.5"
  }
 },
 "nbformat": 4,
 "nbformat_minor": 2
}
