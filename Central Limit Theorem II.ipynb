{
 "cells": [
  {
   "cell_type": "code",
   "execution_count": null,
   "metadata": {},
   "outputs": [],
   "source": [
    "#The number of tickets purchased by each student for the University X vs. University Y football game follows a distribution that \n",
    "#has a mean of 2.4 and a standard deviation of 2.0.\n",
    "\n",
    "#A few hours before the game starts, 100 eager students line up to purchase last-minute tickets. If there are only 250 tickets left, \n",
    "#what is the probability that all 100 students will be able to purchase tickets?"
   ]
  },
  {
   "cell_type": "code",
   "execution_count": 3,
   "metadata": {},
   "outputs": [
    {
     "name": "stdout",
     "output_type": "stream",
     "text": [
      "0.6915\n"
     ]
    }
   ],
   "source": [
    "import math\n",
    "t = 250\n",
    "n = 100\n",
    "m = 2.4\n",
    "s = 2.0\n",
    "mean = n*m\n",
    "var = math.sqrt(n)*s\n",
    "cdf = lambda x: 0.5 * (1 + math.erf((x - mean) / (var * (2 ** 0.5))))\n",
    "print('{:.4f}'.format(cdf(t)))"
   ]
  }
 ],
 "metadata": {
  "kernelspec": {
   "display_name": "Python 3",
   "language": "python",
   "name": "python3"
  },
  "language_info": {
   "codemirror_mode": {
    "name": "ipython",
    "version": 3
   },
   "file_extension": ".py",
   "mimetype": "text/x-python",
   "name": "python",
   "nbconvert_exporter": "python",
   "pygments_lexer": "ipython3",
   "version": "3.6.5"
  }
 },
 "nbformat": 4,
 "nbformat_minor": 2
}
